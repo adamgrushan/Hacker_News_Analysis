{
 "metadata": {
  "language_info": {
   "codemirror_mode": {
    "name": "ipython",
    "version": 3
   },
   "file_extension": ".py",
   "mimetype": "text/x-python",
   "name": "python",
   "nbconvert_exporter": "python",
   "pygments_lexer": "ipython3",
   "version": "3.8.2-final"
  },
  "orig_nbformat": 2,
  "kernelspec": {
   "name": "python38264bit137125f4a8cb471993a1d5900d281b29",
   "display_name": "Python 3.8.2 64-bit"
  }
 },
 "nbformat": 4,
 "nbformat_minor": 2,
 "cells": [
  {
   "cell_type": "markdown",
   "metadata": {},
   "source": [
    "# Hacker News Analysis\n",
    "\n",
    "Goal: Determine the time of day of posts on Hacker News that experience the most comments.\n",
    "\n",
    "I'll be exploring Hacker News data. You can find the data set here: https://www.kaggle.com/hacker-news/hacker-news-posts.\n",
    "\n",
    "I'm specifically interested in posts which ask the Hacker News community specific questions. These posts begin with \"Ask HN\" or \"Show HN\" in the title. Let's begin by importing the data and exploring the first few rows.\n"
   ]
  },
  {
   "cell_type": "code",
   "execution_count": 1,
   "metadata": {},
   "outputs": [],
   "source": [
    "# importing modules\n",
    "from csv import reader\n",
    "import datetime as dt"
   ]
  },
  {
   "cell_type": "code",
   "execution_count": 2,
   "metadata": {
    "tags": []
   },
   "outputs": [
    {
     "output_type": "stream",
     "name": "stdout",
     "text": "['id', 'title', 'url', 'num_points', 'num_comments', 'author', 'created_at']\n[['12224879', 'Interactive Dynamic Video', 'http://www.interactivedynamicvideo.com/', '386', '52', 'ne0phyte', '8/4/2016 11:52'], ['10975351', 'How to Use Open Source and Shut the Fuck Up at the Same Time', 'http://hueniverse.com/2016/01/26/how-to-use-open-source-and-shut-the-fuck-up-at-the-same-time/', '39', '10', 'josep2', '1/26/2016 19:30'], ['11964716', \"Florida DJs May Face Felony for April Fools' Water Joke\", 'http://www.thewire.com/entertainment/2013/04/florida-djs-april-fools-water-joke/63798/', '2', '1', 'vezycash', '6/23/2016 22:20'], ['11919867', 'Technology ventures: From Idea to Enterprise', 'https://www.amazon.com/Technology-Ventures-Enterprise-Thomas-Byers/dp/0073523429', '3', '1', 'hswarna', '6/17/2016 0:01'], ['10301696', 'Note by Note: The Making of Steinway L1037 (2007)', 'http://www.nytimes.com/2007/11/07/movies/07stein.html?_r=0', '8', '2', 'walterbell', '9/30/2015 4:12']]\n"
    }
   ],
   "source": [
    "#reading in the csv file and displaying first five rows\n",
    "\n",
    "opened_file = open(\"hacker_news.csv\")\n",
    "read_file = reader(opened_file)\n",
    "hn = list(read_file)\n",
    "\n",
    "# assign headers list\n",
    "headers = hn[0]\n",
    "\n",
    "# delete headers row\n",
    "del hn[0]\n",
    "\n",
    "print(headers)\n",
    "print(hn[:5])"
   ]
  },
  {
   "cell_type": "code",
   "execution_count": 5,
   "metadata": {
    "tags": []
   },
   "outputs": [
    {
     "output_type": "stream",
     "name": "stdout",
     "text": "['12296411', 'Ask HN: How to improve my personal website?', '', '2', '6', 'ahmedbaracat', '8/16/2016 9:55']\n['10610020', 'Ask HN: Am I the only one outraged by Twitter shutting down share counts?', '', '28', '29', 'tkfx', '11/22/2015 13:43']\n['11610310', 'Ask HN: Aby recent changes to CSS that broke mobile?', '', '1', '1', 'polskibus', '5/2/2016 10:14']\n['12210105', 'Ask HN: Looking for Employee #3 How do I do it?', '', '1', '3', 'sph130', '8/2/2016 14:20']\n['10394168', 'Ask HN: Someone offered to buy my browser extension from me. What now?', '', '28', '17', 'roykolak', '10/15/2015 16:38']\n\n\n['10394168', 'Ask HN: Someone offered to buy my browser extension from me. What now?', '', '28', '17', 'roykolak', '10/15/2015 16:38']\n['10394168', 'Ask HN: Someone offered to buy my browser extension from me. What now?', '', '28', '17', 'roykolak', '10/15/2015 16:38']\n['10394168', 'Ask HN: Someone offered to buy my browser extension from me. What now?', '', '28', '17', 'roykolak', '10/15/2015 16:38']\n['10394168', 'Ask HN: Someone offered to buy my browser extension from me. What now?', '', '28', '17', 'roykolak', '10/15/2015 16:38']\n['10394168', 'Ask HN: Someone offered to buy my browser extension from me. What now?', '', '28', '17', 'roykolak', '10/15/2015 16:38']\n\n\n['10394168', 'Ask HN: Someone offered to buy my browser extension from me. What now?', '', '28', '17', 'roykolak', '10/15/2015 16:38']\n['10394168', 'Ask HN: Someone offered to buy my browser extension from me. What now?', '', '28', '17', 'roykolak', '10/15/2015 16:38']\n['10394168', 'Ask HN: Someone offered to buy my browser extension from me. What now?', '', '28', '17', 'roykolak', '10/15/2015 16:38']\n['10394168', 'Ask HN: Someone offered to buy my browser extension from me. What now?', '', '28', '17', 'roykolak', '10/15/2015 16:38']\n['10394168', 'Ask HN: Someone offered to buy my browser extension from me. What now?', '', '28', '17', 'roykolak', '10/15/2015 16:38']\n\n\n"
    }
   ],
   "source": [
    "# seperating out posts which begin with \"Ask HN\" or \"Show HN\"\n",
    "\n",
    "ask_posts = []\n",
    "show_posts = []\n",
    "other_posts = []\n",
    "\n",
    "for row in hn:\n",
    "    title = row[1].lower()\n",
    "    if title.startswith(\"ask hn\"):\n",
    "        ask_posts.append(row)\n",
    "    elif title.startswith(\"show hn\"):\n",
    "        show_posts.append(row)\n",
    "    else:\n",
    "        other_posts.append(row)\n",
    "\n",
    "#QC\n",
    "for row in ask_posts[0:5]:\n",
    "    print(row)\n",
    "print('\\n')    \n",
    "for x in show_posts[0:5]:\n",
    "    print(row)\n",
    "print('\\n')      \n",
    "for x in other_posts[0:5]:\n",
    "    print(row)\n",
    "print('\\n')     "
   ]
  },
  {
   "cell_type": "code",
   "execution_count": 6,
   "metadata": {
    "tags": []
   },
   "outputs": [
    {
     "output_type": "stream",
     "name": "stdout",
     "text": "1744\n1162\n17194\n"
    }
   ],
   "source": [
    "print(len(ask_posts))\n",
    "print(len(show_posts))\n",
    "print(len(other_posts))"
   ]
  },
  {
   "cell_type": "markdown",
   "metadata": {},
   "source": [
    "Next, let's determine if ask posts or show posts recieve more comments on average"
   ]
  },
  {
   "cell_type": "code",
   "execution_count": 11,
   "metadata": {
    "tags": []
   },
   "outputs": [
    {
     "output_type": "stream",
     "name": "stdout",
     "text": "14.038417431192661\n10.31669535283993\n"
    }
   ],
   "source": [
    "total_ask_coments = 0\n",
    "for row in ask_posts:\n",
    "    total_ask_coments += int(row[4])\n",
    "\n",
    "total_show_coments = 0\n",
    "for row in show_posts:\n",
    "    total_show_coments += int(row[4])\n",
    "\n",
    "avg_ask_comments = total_ask_coments / len(ask_posts)\n",
    "avg_show_comments = total_show_coments / len(show_posts)\n",
    "\n",
    "print(avg_ask_comments)\n",
    "print(avg_show_comments)"
   ]
  },
  {
   "cell_type": "markdown",
   "metadata": {},
   "source": [
    "Ask posts recieve 14.0 comments on average compared to 10.3 comments on average for show posts. Since ask posts recieve more comments, I'll focus the analysis on just these posts.\n",
    "\n",
    "Next, let's determine if asks posts created at a certain time are more likely to attract comments. I'll do this in two steps: \n",
    "\n",
    "1. calculate the number of ask posts created and the number of comments recived in each hour of the day (so 24 bins)\n",
    "2. calculate the average number of comments ask posts recieve by each hour created"
   ]
  },
  {
   "cell_type": "code",
   "execution_count": 15,
   "metadata": {
    "tags": []
   },
   "outputs": [
    {
     "output_type": "stream",
     "name": "stdout",
     "text": "{'09': 45, '13': 85, '10': 59, '14': 107, '16': 108, '23': 68, '12': 73, '17': 100, '15': 116, '21': 109, '20': 80, '02': 58, '18': 109, '03': 54, '05': 46, '19': 110, '01': 60, '22': 71, '08': 48, '04': 47, '00': 55, '06': 44, '07': 34, '11': 58}\n{'09': 251, '13': 1253, '10': 793, '14': 1416, '16': 1814, '23': 543, '12': 687, '17': 1146, '15': 4477, '21': 1745, '20': 1722, '02': 1381, '18': 1439, '03': 421, '05': 464, '19': 1188, '01': 683, '22': 479, '08': 492, '04': 337, '00': 447, '06': 397, '07': 267, '11': 641}\n"
    }
   ],
   "source": [
    "# initialize dictionaries\n",
    "counts_by_hour = {}\n",
    "comments_by_hour = {}\n",
    "\n",
    "for row in ask_posts:\n",
    "    #strip and format \"created_at\" column into 24 hour datetime objects\n",
    "    created_at_datetime = dt.datetime.strptime(row[6], \"%m/%d/%Y %H:%M\")\n",
    "    created_at_hour = dt.datetime.strftime(created_at_datetime, \"%H\")\n",
    "    number_of_comments = int(row[4])\n",
    "\n",
    "    #logic to incremnt dictionaries\n",
    "    if created_at_hour in counts_by_hour:\n",
    "        counts_by_hour[created_at_hour] += 1\n",
    "    else:\n",
    "        counts_by_hour[created_at_hour] = 1\n",
    "\n",
    "    if created_at_hour in comments_by_hour:\n",
    "        comments_by_hour[created_at_hour] += number_of_comments\n",
    "    else:\n",
    "        comments_by_hour[created_at_hour] = number_of_comments\n",
    "\n",
    "print(counts_by_hour)\n",
    "print(comments_by_hour)"
   ]
  },
  {
   "cell_type": "code",
   "execution_count": 19,
   "metadata": {},
   "outputs": [
    {
     "output_type": "execute_result",
     "data": {
      "text/plain": "[['09', 5.5777777777777775],\n ['13', 14.741176470588234],\n ['10', 13.440677966101696],\n ['14', 13.233644859813085],\n ['16', 16.796296296296298],\n ['23', 7.985294117647059],\n ['12', 9.41095890410959],\n ['17', 11.46],\n ['15', 38.5948275862069],\n ['21', 16.009174311926607],\n ['20', 21.525],\n ['02', 23.810344827586206],\n ['18', 13.20183486238532],\n ['03', 7.796296296296297],\n ['05', 10.08695652173913],\n ['19', 10.8],\n ['01', 11.383333333333333],\n ['22', 6.746478873239437],\n ['08', 10.25],\n ['04', 7.170212765957447],\n ['00', 8.127272727272727],\n ['06', 9.022727272727273],\n ['07', 7.852941176470588],\n ['11', 11.051724137931034]]"
     },
     "metadata": {},
     "execution_count": 19
    }
   ],
   "source": [
    "avg_by_hour = []\n",
    "\n",
    "for hour in counts_by_hour:\n",
    "    avg_by_hour.append([hour, comments_by_hour[hour] / counts_by_hour[hour]])\n",
    "\n",
    "avg_by_hour"
   ]
  },
  {
   "cell_type": "code",
   "execution_count": 20,
   "metadata": {
    "tags": []
   },
   "outputs": [
    {
     "output_type": "stream",
     "name": "stdout",
     "text": "[[5.5777777777777775, '09'], [14.741176470588234, '13'], [13.440677966101696, '10'], [13.233644859813085, '14'], [16.796296296296298, '16'], [7.985294117647059, '23'], [9.41095890410959, '12'], [11.46, '17'], [38.5948275862069, '15'], [16.009174311926607, '21'], [21.525, '20'], [23.810344827586206, '02'], [13.20183486238532, '18'], [7.796296296296297, '03'], [10.08695652173913, '05'], [10.8, '19'], [11.383333333333333, '01'], [6.746478873239437, '22'], [10.25, '08'], [7.170212765957447, '04'], [8.127272727272727, '00'], [9.022727272727273, '06'], [7.852941176470588, '07'], [11.051724137931034, '11']]\n"
    }
   ],
   "source": [
    "swap_avg_by_hour = []\n",
    "\n",
    "for row in avg_by_hour:\n",
    "    swap_avg_by_hour.append([row[1], row[0]])\n",
    "\n",
    "print(swap_avg_by_hour)"
   ]
  },
  {
   "cell_type": "code",
   "execution_count": 32,
   "metadata": {
    "tags": []
   },
   "outputs": [
    {
     "output_type": "stream",
     "name": "stdout",
     "text": "Top 5 Hours for Ask Posts Comments\n15:00: 38.59 average comments per post\n02:00: 23.81 average comments per post\n20:00: 21.52 average comments per post\n16:00: 16.80 average comments per post\n21:00: 16.01 average comments per post\n"
    }
   ],
   "source": [
    "sorted_swap = sorted(swap_avg_by_hour, reverse=True)\n",
    "print(\"Top 5 Hours for Ask Posts Comments\")\n",
    "for row in sorted_swap[:5]:\n",
    "    print(\"{0}:00: {1:.2f} average comments per post\".format(row[1], row[0]))"
   ]
  },
  {
   "cell_type": "markdown",
   "metadata": {},
   "source": [
    "The time zone of the data is EST which is GMT-4. I live in PST which is GMT-7. So, to have the greatest chance of comments, I should create posts at 12PM (15:00 minus three hours), 11 PM (02:00 minus three hours), or 5 PM (17:00 minus three hours)."
   ]
  }
 ]
}